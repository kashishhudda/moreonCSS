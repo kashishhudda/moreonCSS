{
  "nbformat": 4,
  "nbformat_minor": 0,
  "metadata": {
    "colab": {
      "provenance": []
    },
    "kernelspec": {
      "name": "python3",
      "display_name": "Python 3"
    },
    "language_info": {
      "name": "python"
    }
  },
  "cells": [
    {
      "cell_type": "markdown",
      "source": [
        "1. Create a navigation bar similar to the below-mentioned image. The navigation bar must contain 5 navigation links that are properly placed within the navigation bar using the CSS box model. The navigation items must change their text color on hover."
      ],
      "metadata": {
        "id": "7E8pLxaeMNfp"
      }
    },
    {
      "cell_type": "code",
      "source": [
        "< !DOCTYPE html>\n",
        "< html lang=\"en\">\n",
        "< head>\n",
        "    < meta charset=\"UTF-8\">\n",
        "    < meta name=\"viewport\" content=\"width=device-width, initial-scale=1.0\">\n",
        "    < title>Navbar< /title>\n",
        "    < link rel=\"stylesheet\" href=\"style.css\">\n",
        "< /head>\n",
        "< body>\n",
        "    < div class=\"navbar\">\n",
        "        < nav class=\"link\">\n",
        "            < a href=\"#\">Home< /a>\n",
        "            < a href=\"#\">About Us< /a>\n",
        "            < a href=\"#\">Contact< /a>\n",
        "            < a href=\"#\">Blog< /a>\n",
        "            < a href=\"#\">Login< /a>\n",
        "        < /nav>\n",
        "    < /div>\n",
        "\n",
        "< /body>\n",
        "< /html>\n",
        "\n",
        "'''CSS code'''\n",
        ".navbar{\n",
        "          box-sizing: border-box;\n",
        "          padding: 20px;\n",
        "          background-color: aqua;\n",
        "        }\n",
        "        .link a{\n",
        "            text-decoration: none;\n",
        "            margin: 20px;\n",
        "            padding: 2px 3px;\n",
        "        }\n",
        "        .link a:hover{\n",
        "            color: rgb(119, 42, 42);\n",
        "            background-color: rgb(139, 202, 202);\n",
        "            border-radius: 4px;\n",
        "        }\n"
      ],
      "metadata": {
        "id": "ZTSgC826MTjn"
      },
      "execution_count": null,
      "outputs": []
    },
    {
      "cell_type": "markdown",
      "source": [
        "2. Create a div centered with an image and paragraph similar to the image mentioned below."
      ],
      "metadata": {
        "id": "tMOb3XC_zcNp"
      }
    },
    {
      "cell_type": "code",
      "source": [
        "< !DOCTYPE html>\n",
        "< html lang=\"en\">\n",
        "< head>\n",
        "    < meta charset=\"UTF-8\">\n",
        "    < meta name=\"viewport\" content=\"width=device-width, initial-scale=1.0\">\n",
        "    < title>Image< /title>\n",
        "     <link rel=\"stylesheet\" href=\"style.css\">\n",
        "< /head>\n",
        "< body>\n",
        "    < div class=\"image\">\n",
        "        < img class=\"image1\" src=\"pw.png\" alt=\"PW Skills\">\n",
        "        < div class=\"skill\">\n",
        "            < p>< strong>Course name:< /strong> Pw Skills Full Stack Web Development< /p>\n",
        "        < /div>\n",
        "    < /div>\n",
        "< /body>\n",
        "< /html>\n",
        "\n",
        "\"\"\"External CSS\"\"\"\n",
        "body {\n",
        "            margin: 0;\n",
        "            background-color: #f0f0f0;\n",
        "            text-align: center;\n",
        "        }\n",
        "        .image {\n",
        "            width: 320px;\n",
        "            margin: 50px auto;\n",
        "            background-color: rgb(241, 238, 60);\n",
        "            border-radius: 20px;\n",
        "            padding: 10px;\n",
        "            box-sizing: border-box;\n",
        "        }\n",
        "        .skill {\n",
        "            margin-top: 10px;\n",
        "        }\n",
        "        .image1 {\n",
        "            border-radius: 20px;\n",
        "            width: 300px;\n",
        "            height: 200px;\n",
        "        }\n"
      ],
      "metadata": {
        "id": "ay-fMTvVziCT"
      },
      "execution_count": null,
      "outputs": []
    },
    {
      "cell_type": "markdown",
      "source": [
        "3.  Create a navigation bar similar to question 1. For each navigation item, use a different border style"
      ],
      "metadata": {
        "id": "hKEY74cCz2B6"
      }
    },
    {
      "cell_type": "code",
      "source": [
        "< !DOCTYPE html>\n",
        "< html lang=\"en\">\n",
        "< head>\n",
        "    < meta charset=\"UTF-8\">\n",
        "    < meta name=\"viewport\" content=\"width=device-width, initial-scale=1.0\">\n",
        "    < title>Navbar< /title>\n",
        "    < link rel=\"stylesheet\" href=\"style.css\">\n",
        "< /head>\n",
        "< body>\n",
        "    < div class=\"navbar\">\n",
        "        < nav class=\"link\">\n",
        "            < a class=\"home\" href=\"#\">Home< /a>\n",
        "            < a class=\"About\" href=\"#\">About Us< /a>\n",
        "            < a class=\"Contact\" href=\"#\">Contact< /a>\n",
        "            < a class=\"Blog\" href=\"#\">Blog< /a>\n",
        "            < a class=\"Login\" href=\"#\">Login< /a>\n",
        "        < /nav>\n",
        "    < /div>\n",
        "\n",
        "< /body>\n",
        "< /html>\n",
        "\n",
        "\"\"\"External CSS\"\"\"\n",
        ".navbar{\n",
        "          box-sizing: border-box;\n",
        "          padding: 20px;\n",
        "          background-color: aqua;\n",
        "        }\n",
        "        .link a{\n",
        "            text-decoration: none;\n",
        "            margin: 20px;\n",
        "            padding: 5px 10px;\n",
        "            color: black;\n",
        "            display: inline-block;\n",
        "        }\n",
        "        .link a:hover{\n",
        "            color: rgb(119, 42, 42);\n",
        "            background-color: rgb(139, 202, 202);\n",
        "            border-radius: 4px;\n",
        "            font-family: 'Gill Sans', 'Gill Sans MT', Calibri, 'Trebuchet MS', sans-serif;\n",
        "            font-size: larger;\n",
        "        }\n",
        "        .home{\n",
        "            border:2px outset black;\n",
        "        }\n",
        "       .About{\n",
        "            border:2px inset black;\n",
        "        }\n",
        ".Contact{\n",
        "            border:2px double black;\n",
        "        }\n",
        ".Blog{\n",
        "            border:2px dashed black;\n",
        "        }\n",
        ".Login{\n",
        "            border:2px hidden black;\n",
        "        }\n"
      ],
      "metadata": {
        "id": "BgAY-RJMz8F3"
      },
      "execution_count": null,
      "outputs": []
    },
    {
      "cell_type": "markdown",
      "source": [
        "4.  Create a simple webpage with an image and make the image circular using border-radius."
      ],
      "metadata": {
        "id": "1vpmVOSX9eTC"
      }
    },
    {
      "cell_type": "code",
      "source": [
        "< !DOCTYPE html>\n",
        "< html lang=\"en\">\n",
        "< head>\n",
        "    < meta charset=\"UTF-8\">\n",
        "    < meta name=\"viewport\" content=\"width=device-width, initial-scale=1.0\">\n",
        "    < title>Circular image< /title>\n",
        "    < link rel=\"stylesheet\" href=\"style.css\">\n",
        "< /head>\n",
        "< body>\n",
        "    < h2>Circular Image< /h2>\n",
        "        < img class=\"image\" src=\"pw.png\" alt=\"pwskills\">\n",
        "< /body>\n",
        "< /html>\n",
        "\n",
        "\"\"\"External CSS\"\"\"\n",
        " body{\n",
        "            text-align: center;\n",
        "            margin-top: 30px;\n",
        "            font-family: 'Trebuchet MS', 'Lucida Sans Unicode', 'Lucida Grande', 'Lucida Sans', Arial, sans-serif;\n",
        "        }\n",
        "        .image{\n",
        "            border-radius: 50%;\n",
        "            width: 200px;\n",
        "            height: 200px;\n",
        "            border: 3px solid black;\n",
        "        }"
      ],
      "metadata": {
        "id": "LpK6rAJTAks7"
      },
      "execution_count": null,
      "outputs": []
    },
    {
      "cell_type": "markdown",
      "source": [
        "5. Create a simple blog website about Google fonts. The webpage must have the heading with “Oswald” font align center to the page, below the heading have an image of Google fonts and a paragraph about Google fonts in font “Montserrat” paragraph font style should be“montserrat” font."
      ],
      "metadata": {
        "id": "T5i6Bru7A1Sq"
      }
    },
    {
      "cell_type": "code",
      "source": [
        "< !DOCTYPE html>\n",
        "< html lang=\"en\">\n",
        "< head>\n",
        "    < meta charset=\"UTF-8\">\n",
        "    < meta name=\"viewport\" content=\"width=device-width, initial-scale=1.0\">\n",
        "    < title>Fonts< /title>\n",
        "    < link rel=\"stylesheet\" href=\"style.css\">\n",
        "    < link rel=\"preconnect\" href=\"https://fonts.googleapis.com\">\n",
        "< link rel=\"preconnect\" href=\"https://fonts.gstatic.com\" crossorigin>\n",
        "< link href=\"https://fonts.googleapis.com/css2?family=Oswald:wght@200..700&display=swap\" rel=\"stylesheet\">\n",
        "< link rel=\"preconnect\" href=\"https://fonts.googleapis.com\">\n",
        "< link rel=\"preconnect\" href=\"https://fonts.gstatic.com\" crossorigin>\n",
        "< link href=\"https://fonts.googleapis.com/css2?family=Montserrat:ital,wght@0,100..900;1,100..900&family=Oswald:wght@200..700&display=swap\" rel=\"stylesheet\">\n",
        "< /head>\n",
        "< body>\n",
        "    < h1>Google Fonts< /h1>\n",
        "    < img src=\"google.webp\" alt=\"Google font\">\n",
        "    < p>“Google Fonts is a library of free, open-source fonts that can be used on websites and in design projects. It makes it easy for developers and designers to use unique typography without worrying about licensing issues. With hundreds of fonts available, Google Fonts helps create beautiful and readable web experiences.”< /p>\n",
        "< /body>\n",
        "< /html>\n",
        "\n",
        "\"\"\"External CSS\"\"\"\n",
        " body{\n",
        "            text-align: center;\n",
        "        }\n",
        "        h1{\n",
        "            font-family:\"oswald\",sans-serif;\n",
        "        }\n",
        "        img{\n",
        "            width: 300px;\n",
        "            height: 300px;\n",
        "        }\n",
        "        p{\n",
        "        font-family:\"Montserrat\",sans-serif;\n",
        "        margin: 30px;\n",
        "        }"
      ],
      "metadata": {
        "id": "QZvyJxMyA8NL"
      },
      "execution_count": null,
      "outputs": []
    },
    {
      "cell_type": "markdown",
      "source": [
        "6. Create a simple website as mentioned in the below image. You can get the assets by visiting https://pwskills.com/about-us."
      ],
      "metadata": {
        "id": "LOCBqJKBFeBI"
      }
    },
    {
      "cell_type": "code",
      "source": [
        "< !DOCTYPE html>\n",
        "< html lang=\"en\">\n",
        "< head>\n",
        "    < meta charset=\"UTF-8\">\n",
        "    < meta name=\"viewport\" content=\"width=device-width, initial-scale=1.0\">\n",
        "    < title>PW Skills< /title>\n",
        "    < style>\n",
        "        body{\n",
        "            text-align: center;\n",
        "        }\n",
        "        img{\n",
        "           border: 2px solid black;\n",
        "           border-radius: 20px;\n",
        "           width: 80%;\n",
        "        }\n",
        "        p{\n",
        "            padding-left: 10%;\n",
        "            padding-right: 10%;\n",
        "            font-family: 'Trebuchet MS', 'Lucida Sans Unicode', 'Lucida Grande', 'Lucida Sans', Arial, sans-serif;\n",
        "        }\n",
        "        h1{\n",
        "            font-family: 'Lucida Sans', 'Lucida Sans Regular', 'Lucida Grande', 'Lucida Sans Unicode', Geneva, Verdana, sans-serif;\n",
        "        }\n",
        "\n",
        "    < /style>\n",
        "< /head>\n",
        "< body>\n",
        "    < h1>About Us< /h1>\n",
        "    < div>\n",
        "    < p>PW Skills, mission is to permeate through every student/professional's outlook towards jobs and change their attitude and perspective from \"How Can I Do It?\" to \"Of Course I Can Do It\". We aim to do this by providing exceptional up skilling courses at affordable rates, while being tech-forward so anyone, anywhere can access and improve their ability to be successful in life.< /p>\n",
        "    < img src=\"aboutUs.png\" alt=\"about-us\">\n",
        "    < /div>\n",
        "< /body>\n",
        "< /html>"
      ],
      "metadata": {
        "id": "LcEerphUFnL3"
      },
      "execution_count": null,
      "outputs": []
    },
    {
      "cell_type": "markdown",
      "source": [
        "7. Create a simple webpage with a card similar to question number 2. The card must be semi-transparent as default and on hovering the card must be displayed clearly. Use CSS opacity to achieve this output."
      ],
      "metadata": {
        "id": "CK6QJwugZoq2"
      }
    },
    {
      "cell_type": "code",
      "source": [
        "< !DOCTYPE html>\n",
        "< html lang=\"en\">\n",
        "< head>\n",
        "    < meta charset=\"UTF-8\">\n",
        "    < meta name=\"viewport\" content=\"width=device-width, initial-scale=1.0\">\n",
        "    < title>Image< /title>\n",
        "    < link rel=\"stylesheet\" href=\"style.css\">\n",
        "< /head>\n",
        "< body>\n",
        "    < div class=\"image\">\n",
        "        < img class=\"image1\" src=\"pw.png\" alt=\"PW Skills\">\n",
        "        < div class=\"skill\">\n",
        "            < p>< strong>Course name:< /strong> Pw Skills Full Stack Web Development< /p>\n",
        "        < /div>\n",
        "    < /div>\n",
        "< /body>\n",
        "< /html>\n",
        "\n",
        "\"\"\"External CSS\"\"\"\n",
        "body {\n",
        "            margin: 0;\n",
        "            background-color: #e6dada;\n",
        "            text-align: center;\n",
        "        }\n",
        "        .image {\n",
        "            width: 320px;\n",
        "            margin: 50px auto;\n",
        "            background-color: rgb(212, 209, 24);\n",
        "            border-radius: 20px;\n",
        "            padding: 10px;\n",
        "            box-sizing: border-box;\n",
        "            opacity: 1;\n",
        "        }\n",
        "        .image:hover{\n",
        "            opacity: 0.6;\n",
        "            transition: opacity 0.6s ease;\n",
        "        }\n",
        "        .skill{\n",
        "            margin-top: 10px;\n",
        "        }\n",
        "        .image1{\n",
        "            border-radius: 20px;\n",
        "            width: 300px;\n",
        "            height: 200px;\n",
        "        }\n"
      ],
      "metadata": {
        "id": "6dE3jEs4Pjt1"
      },
      "execution_count": null,
      "outputs": []
    },
    {
      "cell_type": "markdown",
      "source": [
        "8. Create a simple list of items as mentioned in the below image."
      ],
      "metadata": {
        "id": "2mn1ifM5P1DD"
      }
    },
    {
      "cell_type": "code",
      "source": [
        "< !DOCTYPE html>\n",
        "< html lang=\"en\">\n",
        "< head>\n",
        "    < meta charset=\"UTF-8\">\n",
        "    < meta name=\"viewport\" content=\"width=device-width, initial-scale=1.0\">\n",
        "    < title>List< /title>\n",
        "< /head>\n",
        "< body>\n",
        "    < h1>Requirements< /h1>\n",
        "    < ol type=\"i\">\n",
        "        < li>System with minimum i3 processor or better.< /li>\n",
        "        < li>At least 4 GB of RAM.< /li>\n",
        "        < li>Working Internet Connection.< /li>\n",
        "        < li>Dedication to Learn.< /li>\n",
        "    < /ol>\n",
        "< /body>\n",
        "< /html>"
      ],
      "metadata": {
        "id": "uGFDAAUVP5Y0"
      },
      "execution_count": null,
      "outputs": []
    }
  ]
}